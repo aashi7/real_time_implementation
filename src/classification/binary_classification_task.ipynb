{
 "cells": [
  {
   "cell_type": "code",
   "execution_count": 2,
   "metadata": {},
   "outputs": [
    {
     "name": "stderr",
     "output_type": "stream",
     "text": [
      "/home/aashi/anaconda3/lib/python3.6/site-packages/h5py/__init__.py:36: FutureWarning: Conversion of the second argument of issubdtype from `float` to `np.floating` is deprecated. In future, it will be treated as `np.float64 == np.dtype(float).type`.\n",
      "  from ._conv import register_converters as _register_converters\n"
     ]
    }
   ],
   "source": [
    "import torch\n",
    "import torchvision.models as models\n",
    "import h5py \n",
    "from logger import Logger\n",
    "from torchvision.transforms import transforms \n",
    "import torch.utils.data as data\n",
    "import numpy as np \n",
    "import pdb\n",
    "import matplotlib.pyplot as plt\n",
    "import torch.nn as nn \n",
    "import torch.optim as optim \n",
    "from torch.autograd import Variable\n",
    "import shutil\n",
    "import os \n",
    "import random\n",
    "import torch.nn.functional as F\n",
    "\n",
    "from sklearn.metrics import roc_curve\n",
    "from sklearn.metrics import average_precision_score\n",
    "from sklearn.metrics import roc_auc_score"
   ]
  },
  {
   "cell_type": "code",
   "execution_count": 3,
   "metadata": {},
   "outputs": [],
   "source": [
    "## If there is a near-collision in next two seconds or not \n",
    "\n",
    "class FrameDataset(data.Dataset):\n",
    "    \n",
    "    def __init__(self, f, transform=None, test=False):\n",
    "        \n",
    "        self.f = f \n",
    "        self.transform = transform\n",
    "        self.test = test \n",
    "        \n",
    "    def __getitem__(self, index):\n",
    "        \n",
    "        rgb = np.array(self.f[\"rgb\"][index])\n",
    "        label = np.array(self.f[\"labels\"][index], dtype=np.uint8)\n",
    "        \n",
    "        t_label = torch.zeros(2)\n",
    "        \n",
    "        if (label[0] or label[1]):\n",
    "            t_label[0] = 1 ## Near-collision within next 2 seconds\n",
    "        else:\n",
    "            t_label[1] = 1 ## No Near-collision within next 2 seconds \n",
    "            \n",
    "        t_rgb = torch.zeros(rgb.shape[0], 3, 224, 224)\n",
    "        \n",
    "        prob = random.uniform(0, 1)\n",
    "        \n",
    "        if self.transform is not None:\n",
    "            \n",
    "            for i in range(rgb.shape[0]):\n",
    "                if (prob > 0.5 and not self.test):\n",
    "                    flip_transform = transforms.Compose([transforms.ToPILImage(), transforms.RandomHorizontalFlip(1.0)])\n",
    "                    rgb[i,:,:,:] = flip_transform(rgb[i,:,:,:])\n",
    "                t_rgb[i,:,:,:] = self.transform(rgb[i,:,:,:])\n",
    "                \n",
    "        return t_rgb, t_label\n",
    "    \n",
    "    def __len__(self):\n",
    "        return len(self.f[\"rgb\"])"
   ]
  },
  {
   "cell_type": "code",
   "execution_count": 4,
   "metadata": {},
   "outputs": [],
   "source": [
    "hfp_train = h5py.File('/mnt/hdd1/aashi/cmu_data/threeSecsTrain.h5', 'r')\n",
    "normalize = transforms.Normalize(mean=[0.485, 0.456, 0.406], std=[0.229, 0.224, 0.225])\n",
    "batch_size = 32\n",
    "\n",
    "labels_train = hfp_train[\"labels\"]\n",
    "\n",
    "weights = []\n",
    "for i in range(len(labels_train)):\n",
    "    if (labels_train[i][0] or labels_train[i][1]):\n",
    "        weights.append(0.6)\n",
    "    else:\n",
    "        weights.append(0.4)\n",
    "        \n",
    "weights = torch.DoubleTensor(weights)\n",
    "sampler = torch.utils.data.sampler.WeightedRandomSampler(weights, len(weights))\n",
    "\n",
    "train_loader = data.DataLoader(FrameDataset(f = hfp_train, transform = transforms.Compose([transforms.ToTensor(), normalize]),test = False),\n",
    "                              batch_size=batch_size, sampler = sampler)\n",
    "\n",
    "hfp_test = h5py.File('/mnt/hdd1/aashi/cmu_data/threeSecsTest.h5', 'r')\n",
    "test_loader = data.DataLoader(FrameDataset(f = hfp_test, transform = transforms.Compose([transforms.ToTensor(), normalize]), test = True), \n",
    "                               batch_size=1)"
   ]
  },
  {
   "cell_type": "code",
   "execution_count": 5,
   "metadata": {},
   "outputs": [],
   "source": [
    "def load_vgg_voc_weights(MODEL_PATH):\n",
    "    checkpoint_dict = torch.load(MODEL_PATH)\n",
    "    vgg_model.load_state_dict(checkpoint_dict)\n",
    "\n",
    "vgg_model = models.vgg16(pretrained=True)\n",
    "num_final_in = vgg_model.classifier[-1].in_features\n",
    "NUM_CLASSES = 20 ## in VOC\n",
    "vgg_model.classifier[-1] = nn.Linear(num_final_in, NUM_CLASSES)\n",
    "model_path = '/home/aashi/the_conclusion/model_files/' + 'vgg_on_voc' + str(800)\n",
    "load_vgg_voc_weights(model_path)\n",
    "\n",
    "class VGGNet(nn.Module):\n",
    "    \n",
    "    def __init__(self):\n",
    "        super(VGGNet, self).__init__()\n",
    "        self.rgb_net = self.get_vgg_features()\n",
    "        \n",
    "        kernel_size = 3 \n",
    "        padding = int((kernel_size - 1)/2)\n",
    "        self.conv_layer = nn.Conv2d(512, 16, kernel_size, 1, padding, bias=True)\n",
    "        self.conv_bn = nn.BatchNorm2d(16)\n",
    "        self.feature_size = 16*7*7*4\n",
    "        self.final_layer = nn.Sequential(\n",
    "        nn.Linear(self.feature_size, 256),\n",
    "        nn.Linear(256, 2),  ## 4 classes instead of 2 \n",
    "        nn.Softmax()  ## If loss function uses Softmax  \n",
    "        )\n",
    "        \n",
    "    def forward(self, rgb): ## sequence of four images - last index is latest \n",
    "        four_imgs = []\n",
    "        for i in range(rgb.shape[1]):\n",
    "            img_features = self.rgb_net(rgb[:,i,:,:,:])\n",
    "            channels_reduced = self.conv_bn(self.conv_layer(img_features))\n",
    "            img_features = channels_reduced.view((-1, 16*7*7))\n",
    "            four_imgs.append(img_features)\n",
    "        concat_output = torch.cat(four_imgs, dim = 1)\n",
    "        out = self.final_layer(concat_output)\n",
    "        return out\n",
    "        \n",
    "    def get_vgg_features(self):\n",
    "\n",
    "        modules = list(vgg_model.children())[:-1]\n",
    "        vgg16 = nn.Sequential(*modules)\n",
    "        \n",
    "        return vgg16.type(torch.Tensor)"
   ]
  },
  {
   "cell_type": "code",
   "execution_count": 6,
   "metadata": {},
   "outputs": [],
   "source": [
    "def load_model_weights(epoch_num):\n",
    "    model_file = '/mnt/hdd1/aashi/binary_classification_v2_' + str(epoch_num).zfill(3)\n",
    "    checkpoint_dict = torch.load(model_file)\n",
    "    model.load_state_dict(checkpoint_dict)"
   ]
  },
  {
   "cell_type": "code",
   "execution_count": 23,
   "metadata": {},
   "outputs": [],
   "source": [
    "model = VGGNet().cuda()\n",
    "optimizer = optim.SGD(model.parameters(), 0.001)\n",
    "criterion = nn.BCELoss()\n",
    "\n",
    "if os.path.exists('binary_classification_curve'):\n",
    "    shutil.rmtree('binary_classification_curve')\n",
    "logger = Logger('binary_classification_curve', name='performance_curves')\n",
    "\n",
    "def save_model_weights(epoch_num):\n",
    "    model_file = '/mnt/hdd1/aashi/binary_classification_' + str(epoch_num).zfill(3)\n",
    "    torch.save(model.state_dict(), model_file)"
   ]
  },
  {
   "cell_type": "code",
   "execution_count": 7,
   "metadata": {},
   "outputs": [
    {
     "ename": "NameError",
     "evalue": "name 'train_loader' is not defined",
     "output_type": "error",
     "traceback": [
      "\u001b[0;31m---------------------------------------------------------------------------\u001b[0m",
      "\u001b[0;31mNameError\u001b[0m                                 Traceback (most recent call last)",
      "\u001b[0;32m<ipython-input-7-eb76dd7ee20a>\u001b[0m in \u001b[0;36m<module>\u001b[0;34m()\u001b[0m\n\u001b[1;32m      3\u001b[0m \u001b[0;34m\u001b[0m\u001b[0m\n\u001b[1;32m      4\u001b[0m \u001b[0;32mfor\u001b[0m \u001b[0me\u001b[0m \u001b[0;32min\u001b[0m \u001b[0mrange\u001b[0m\u001b[0;34m(\u001b[0m\u001b[0mepochs\u001b[0m\u001b[0;34m)\u001b[0m\u001b[0;34m:\u001b[0m\u001b[0;34m\u001b[0m\u001b[0m\n\u001b[0;32m----> 5\u001b[0;31m     \u001b[0;32mfor\u001b[0m \u001b[0miter\u001b[0m\u001b[0;34m,\u001b[0m \u001b[0;34m(\u001b[0m\u001b[0mrgb\u001b[0m\u001b[0;34m,\u001b[0m \u001b[0mlabel\u001b[0m\u001b[0;34m)\u001b[0m \u001b[0;32min\u001b[0m \u001b[0menumerate\u001b[0m\u001b[0;34m(\u001b[0m\u001b[0mtrain_loader\u001b[0m\u001b[0;34m,\u001b[0m \u001b[0;36m0\u001b[0m\u001b[0;34m)\u001b[0m\u001b[0;34m:\u001b[0m\u001b[0;34m\u001b[0m\u001b[0m\n\u001b[0m\u001b[1;32m      6\u001b[0m \u001b[0;34m\u001b[0m\u001b[0m\n\u001b[1;32m      7\u001b[0m         \u001b[0mrgb\u001b[0m \u001b[0;34m=\u001b[0m \u001b[0mVariable\u001b[0m\u001b[0;34m(\u001b[0m\u001b[0mrgb\u001b[0m\u001b[0;34m.\u001b[0m\u001b[0mfloat\u001b[0m\u001b[0;34m(\u001b[0m\u001b[0;34m)\u001b[0m\u001b[0;34m.\u001b[0m\u001b[0mcuda\u001b[0m\u001b[0;34m(\u001b[0m\u001b[0;34m)\u001b[0m\u001b[0;34m)\u001b[0m\u001b[0;34m\u001b[0m\u001b[0m\n",
      "\u001b[0;31mNameError\u001b[0m: name 'train_loader' is not defined"
     ]
    }
   ],
   "source": [
    "iterations = 0 \n",
    "epochs = 50 \n",
    "\n",
    "for e in range(epochs):\n",
    "    for iter, (rgb, label) in enumerate(train_loader, 0):\n",
    "        \n",
    "        rgb = Variable(rgb.float().cuda())\n",
    "        label = Variable(label.float().cuda())\n",
    "        \n",
    "        optimizer.zero_grad()\n",
    "        # (1) Forward pass \n",
    "        outputs = model(rgb)\n",
    "        # (2) Compute diff \n",
    "        loss = criterion(outputs, label)\n",
    "        # (3) Compute gradients \n",
    "        loss.backward()\n",
    "        # (4) update weights \n",
    "        optimizer.step()\n",
    "        \n",
    "        iterations += 1\n",
    "        logger.scalar_summary('training_loss', loss.data.cpu().numpy(), iterations)\n",
    "        \n",
    "    if (e % 2 == 0):\n",
    "        print(e)\n",
    "        save_model_weights(e)\n",
    "        model.eval()\n",
    "        total_loss = 0.0\n",
    "        for iter, (rgb, label) in enumerate(test_loader, 0):\n",
    "            rgb = rgb.float().cuda()\n",
    "            outputs = model(rgb)\n",
    "            loss = criterion(outputs, label.float().cuda())\n",
    "            total_loss += loss.data.cpu().numpy()\n",
    "        logger.scalar_summary('test_loss', total_loss, e)\n",
    "        model.train()"
   ]
  },
  {
   "cell_type": "code",
   "execution_count": 7,
   "metadata": {},
   "outputs": [],
   "source": [
    "############ After Training ##########\n",
    "\n",
    "# hfp_test = h5py.File('/mnt/hdd1/aashi/cmu_data/threeSecsTest.h5', 'r')\n",
    "# normalize = transforms.Normalize(mean=[0.485,0.456,0.406], std=[0.229, 0.224, 0.225])\n",
    "# batch_size = 1\n",
    "# transform = transforms.Compose([transforms.ToTensor(), normalize])\n",
    "# test_loader = data.DataLoader(FrameDataset(f = hfp_test, transform = transforms.Compose([transforms.ToTensor(), normalize]), test = True), \n",
    "#                                batch_size=1)\n",
    "model = VGGNet().cuda()\n",
    "model.eval()\n",
    "\n",
    "e = 2 \n",
    "load_model_weights(2)"
   ]
  },
  {
   "cell_type": "code",
   "execution_count": 8,
   "metadata": {},
   "outputs": [
    {
     "name": "stderr",
     "output_type": "stream",
     "text": [
      "/home/aashi/anaconda3/envs/cenv/lib/python3.6/site-packages/torch/nn/modules/container.py:91: UserWarning: Implicit dimension choice for softmax has been deprecated. Change the call to include dim=X as an argument.\n",
      "  input = module(input)\n"
     ]
    }
   ],
   "source": [
    "confusion_matrix = np.zeros((2,2))\n",
    "\n",
    "for iter, (t_rgb, label) in enumerate(test_loader, 0):\n",
    "    t_rgb = t_rgb.float().cuda()\n",
    "    outputs = model(t_rgb)\n",
    "\n",
    "    outputs = outputs.detach().cpu().numpy()\n",
    "    \n",
    "    true = np.argmax(label)\n",
    "    pred = np.argmax(outputs)\n",
    "    \n",
    "    confusion_matrix[pred][true] += 1"
   ]
  },
  {
   "cell_type": "code",
   "execution_count": 11,
   "metadata": {},
   "outputs": [],
   "source": [
    "tp = confusion_matrix[0][0]\n",
    "fp = confusion_matrix[0][1]\n",
    "fn = confusion_matrix[1][0]\n",
    "precision = tp/(tp + fp)\n",
    "recall = tp/(tp + fn)\n",
    "f1Score = 2*precision*recall/(precision + recall)"
   ]
  },
  {
   "cell_type": "code",
   "execution_count": 12,
   "metadata": {},
   "outputs": [
    {
     "name": "stdout",
     "output_type": "stream",
     "text": [
      "0.8165680473372782\n"
     ]
    }
   ],
   "source": [
    "print(f1Score)"
   ]
  },
  {
   "cell_type": "code",
   "execution_count": 10,
   "metadata": {},
   "outputs": [
    {
     "data": {
      "text/plain": [
       "array([[345.,  28.],\n",
       "       [127., 648.]])"
      ]
     },
     "execution_count": 10,
     "metadata": {},
     "output_type": "execute_result"
    }
   ],
   "source": [
    "confusion_matrix"
   ]
  },
  {
   "cell_type": "code",
   "execution_count": 13,
   "metadata": {},
   "outputs": [],
   "source": [
    "confusion_matrix = [[634, 36],[53, 2840]]"
   ]
  },
  {
   "cell_type": "code",
   "execution_count": 14,
   "metadata": {},
   "outputs": [],
   "source": [
    "tp = confusion_matrix[0][0]\n",
    "fp = confusion_matrix[0][1]\n",
    "fn = confusion_matrix[1][0]\n",
    "precision = tp/(tp + fp)\n",
    "recall = tp/(tp + fn)\n",
    "f1Score = 2*precision*recall/(precision + recall)"
   ]
  },
  {
   "cell_type": "code",
   "execution_count": 15,
   "metadata": {},
   "outputs": [
    {
     "data": {
      "text/plain": [
       "0.9344141488577745"
      ]
     },
     "execution_count": 15,
     "metadata": {},
     "output_type": "execute_result"
    }
   ],
   "source": [
    "f1Score"
   ]
  },
  {
   "cell_type": "code",
   "execution_count": null,
   "metadata": {},
   "outputs": [],
   "source": []
  }
 ],
 "metadata": {
  "kernelspec": {
   "display_name": "Python 2",
   "language": "python",
   "name": "python2"
  },
  "language_info": {
   "codemirror_mode": {
    "name": "ipython",
    "version": 3
   },
   "file_extension": ".py",
   "mimetype": "text/x-python",
   "name": "python",
   "nbconvert_exporter": "python",
   "pygments_lexer": "ipython3",
   "version": "3.6.5"
  }
 },
 "nbformat": 4,
 "nbformat_minor": 2
}
