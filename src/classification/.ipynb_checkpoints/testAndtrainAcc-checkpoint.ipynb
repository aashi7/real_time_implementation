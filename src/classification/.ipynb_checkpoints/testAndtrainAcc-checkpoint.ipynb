{
 "cells": [
  {
   "cell_type": "code",
   "execution_count": 7,
   "metadata": {},
   "outputs": [],
   "source": [
    "import torch\n",
    "import torchvision.models as models\n",
    "import h5py \n",
    "from logger import Logger\n",
    "from torchvision.transforms import transforms \n",
    "import torch.utils.data as data\n",
    "import numpy as np \n",
    "import pdb\n",
    "import matplotlib.pyplot as plt\n",
    "import torch.nn as nn \n",
    "import torch.optim as optim \n",
    "from torch.autograd import Variable\n",
    "import shutil\n",
    "import os \n",
    "import random\n",
    "import torch.nn.functional as F\n",
    "\n",
    "class FrameDataset(data.Dataset):\n",
    "    \n",
    "    def __init__(self, f, transform=None, test = False):\n",
    "        self.f = f \n",
    "        self.transform = transform \n",
    "        self.test = test\n",
    "        \n",
    "    def __getitem__(self, index):\n",
    "        rgb = np.array(self.f[\"rgb\"][index])\n",
    "        label = np.array(self.f[\"labels\"][index], dtype=np.uint8)\n",
    "        \n",
    "        t_label = torch.zeros(1)\n",
    "        \n",
    "        if (label[0]):\n",
    "            t_label = 0\n",
    "        else:\n",
    "            if (label[1]):\n",
    "                t_label = 1\n",
    "            else:\n",
    "                if (label[2]):\n",
    "                    t_label = 2\n",
    "                else:\n",
    "                    t_label = 3\n",
    "        \n",
    "        t_rgb = torch.zeros(rgb.shape[0], 3, 224, 224)\n",
    "        \n",
    "        prob = random.uniform(0, 1)\n",
    "\n",
    "        if self.transform is not None:\n",
    "            for i in range(rgb.shape[0]):\n",
    "                if (prob > 0.5 and not self.test):\n",
    "                    flip_transform = transforms.Compose([transforms.ToPILImage(), transforms.RandomHorizontalFlip(1.0)])\n",
    "                    rgb[i,:,:,:] = flip_transform(rgb[i,:,:,:])\n",
    "                t_rgb[i,:,:,:] = self.transform(rgb[i,:,:,:])\n",
    "\n",
    "                \n",
    "        return t_rgb, t_label\n",
    "    \n",
    "    def __len__(self):\n",
    "        return len(self.f[\"rgb\"])\n",
    "\n",
    "def load_vgg_voc_weights(MODEL_PATH):\n",
    "    checkpoint_dict = torch.load(MODEL_PATH)\n",
    "    vgg_model.load_state_dict(checkpoint_dict)\n",
    "\n",
    "vgg_model = models.vgg16(pretrained=True)\n",
    "num_final_in = vgg_model.classifier[-1].in_features\n",
    "NUM_CLASSES = 20 ## in VOC\n",
    "vgg_model.classifier[-1] = nn.Linear(num_final_in, NUM_CLASSES)\n",
    "model_path = '/home/aashi/the_conclusion/model_files/' + 'vgg_on_voc' + str(800)\n",
    "load_vgg_voc_weights(model_path)\n",
    "\n",
    "class VGGNet(nn.Module):\n",
    "    \n",
    "    def __init__(self):\n",
    "        super(VGGNet, self).__init__()\n",
    "        self.rgb_net = self.get_vgg_features()\n",
    "        \n",
    "        kernel_size = 3 \n",
    "        padding = int((kernel_size - 1)/2)\n",
    "        self.conv_layer = nn.Conv2d(512, 16, kernel_size, 1, padding, bias=True)\n",
    "        self.conv_bn = nn.BatchNorm2d(16)\n",
    "        ## input_channels, output_channels, kernel_size, stride, padding, bias\n",
    "        self.feature_size = 16*7*7*4\n",
    "        self.final_layer = nn.Sequential(\n",
    "        nn.Linear(self.feature_size, 256),\n",
    "        nn.Linear(256, 4)  ## 4 classes instead of 2 \n",
    "        #nn.Sigmoid()\n",
    "        #nn.Softmax()  ## If loss function uses Softmax  \n",
    "        )\n",
    "        \n",
    "    def forward(self, rgb): ## sequence of four images - last index is latest \n",
    "        four_imgs = []\n",
    "        for i in range(rgb.shape[1]):\n",
    "            img_features = self.rgb_net(rgb[:,i,:,:,:])\n",
    "            channels_reduced = self.conv_bn(self.conv_layer(img_features))\n",
    "            img_features = channels_reduced.view((-1, 16*7*7))\n",
    "            four_imgs.append(img_features)\n",
    "        concat_output = torch.cat(four_imgs, dim = 1)\n",
    "        out = self.final_layer(concat_output)\n",
    "        return out\n",
    "#         return concat_output\n",
    "        \n",
    "    def get_vgg_features(self):\n",
    "\n",
    "        ##vgg16 = load_vgg_voc_weights(vgg16, model_path)\n",
    "        modules = list(vgg_model.children())[:-1]\n",
    "        ## I can also freeze \n",
    "        ## high level layer, should I take a lower level?\n",
    "        vgg16 = nn.Sequential(*modules)\n",
    "        \n",
    "        ## Uncommented this to let it fine-tune on my model \n",
    "        # for p in vgg16.parameters():\n",
    "        #     p.requires_grad = False \n",
    "        \n",
    "        return vgg16.type(torch.Tensor)\n",
    "\n",
    "hfp_train = h5py.File('/mnt/hdd1/aashi/cmu_data/threeSecsTrain.h5', 'r')\n",
    "hfp_test = h5py.File('/mnt/hdd1/aashi/cmu_data/threeSecsTest.h5', 'r')\n",
    "normalize = transforms.Normalize(mean=[0.485, 0.456, 0.406], std=[0.229, 0.224, 0.225])\n",
    "test_loader = data.DataLoader(FrameDataset(f = hfp_test, transform = transforms.Compose([transforms.ToTensor(), normalize]), test = True), \n",
    "                               batch_size=1)\n",
    "batch_size = 1\n",
    "train_loader = data.DataLoader(FrameDataset(f = hfp_train, transform = transforms.Compose([transforms.ToTensor(), normalize]),test = True),\n",
    "                              batch_size=1)\n",
    "model = VGGNet().cuda()\n",
    "\n",
    "def save_model_weights(epoch_num):\n",
    "    #model_file = '/home/aashi/the_conclusion/model_files/vgg_voc_flip_freeze_' + str(epoch_num).zfill(3)\n",
    "    #model_file = '/mnt/hdd1/aashi/3sW_' + str(epoch_num).zfill(3)\n",
    "    model_file = '/mnt/hdd1/aashi/3sAppendix_' + str(epoch_num).zfill(3)\n",
    "    torch.save(model.state_dict(), model_file)\n",
    "\n",
    "\n",
    "def load_model_weights(epoch_num):\n",
    "    #model_file = '/home/aashi/the_conclusion/model_files/vgg_voc_flip_freeze_' + str(epoch_num).zfill(3)\n",
    "    #model_file = '/mnt/hdd1/aashi/3sW_' + str(epoch_num).zfill(3)\n",
    "    model_file = '/mnt/hdd1/aashi/3sAppendix_' + str(epoch_num).zfill(3)\n",
    "    checkpoint_dict = torch.load(model_file)\n",
    "    model.load_state_dict(checkpoint_dict)\n",
    "    \n",
    "#load_model_weights(50)\n",
    "\n",
    "#model.eval()"
   ]
  },
  {
   "cell_type": "code",
   "execution_count": 8,
   "metadata": {},
   "outputs": [],
   "source": [
    "if os.path.exists('multiple_classes_curve'):\n",
    "    shutil.rmtree('multiple_classes_curve')\n",
    "logger = Logger('multiple_classes_curve', name='performance_curves')"
   ]
  },
  {
   "cell_type": "code",
   "execution_count": 9,
   "metadata": {},
   "outputs": [
    {
     "name": "stdout",
     "output_type": "stream",
     "text": [
      "> <ipython-input-9-c53ae2161d98>(10)<module>()\n",
      "-> label = torch.argmax(label)\n",
      "(Pdb) label\n",
      "tensor([[ 0,  0,  1,  0]], device='cuda:0')\n",
      "(Pdb) label = torch.argmax(label)\n",
      "(Pdb) label\n",
      "tensor(2, device='cuda:0')\n",
      "(Pdb) outputs = model(rgb)\n",
      "(Pdb) loss = criterion(outputs, label)\n",
      "*** RuntimeError: dimension specified as 0 but tensor has no dimensions\n",
      "(Pdb) label.shape\n",
      "torch.Size([])\n",
      "(Pdb) label.unsqueeze(-1)\n",
      "tensor([ 2], device='cuda:0')\n",
      "(Pdb) label.shape\n",
      "torch.Size([])\n",
      "(Pdb) outputs.shape\n",
      "torch.Size([1, 4])\n",
      "(Pdb) label.shaoe\n",
      "*** AttributeError: 'Tensor' object has no attribute 'shaoe'\n",
      "(Pdb) label.shape\n",
      "torch.Size([])\n",
      "(Pdb) q\n"
     ]
    },
    {
     "ename": "BdbQuit",
     "evalue": "",
     "output_type": "error",
     "traceback": [
      "\u001b[0;31m---------------------------------------------------------------------------\u001b[0m",
      "\u001b[0;31mBdbQuit\u001b[0m                                   Traceback (most recent call last)",
      "\u001b[0;32m<ipython-input-9-c53ae2161d98>\u001b[0m in \u001b[0;36m<module>\u001b[0;34m()\u001b[0m\n\u001b[1;32m      8\u001b[0m \u001b[0;34m\u001b[0m\u001b[0m\n\u001b[1;32m      9\u001b[0m     \u001b[0mpdb\u001b[0m\u001b[0;34m.\u001b[0m\u001b[0mset_trace\u001b[0m\u001b[0;34m(\u001b[0m\u001b[0;34m)\u001b[0m\u001b[0;34m\u001b[0m\u001b[0m\n\u001b[0;32m---> 10\u001b[0;31m     \u001b[0mlabel\u001b[0m \u001b[0;34m=\u001b[0m \u001b[0mtorch\u001b[0m\u001b[0;34m.\u001b[0m\u001b[0margmax\u001b[0m\u001b[0;34m(\u001b[0m\u001b[0mlabel\u001b[0m\u001b[0;34m)\u001b[0m\u001b[0;34m\u001b[0m\u001b[0m\n\u001b[0m\u001b[1;32m     11\u001b[0m \u001b[0;34m\u001b[0m\u001b[0m\n\u001b[1;32m     12\u001b[0m     \u001b[0moptimizer\u001b[0m\u001b[0;34m.\u001b[0m\u001b[0mzero_grad\u001b[0m\u001b[0;34m(\u001b[0m\u001b[0;34m)\u001b[0m\u001b[0;34m\u001b[0m\u001b[0m\n",
      "\u001b[0;32m<ipython-input-9-c53ae2161d98>\u001b[0m in \u001b[0;36m<module>\u001b[0;34m()\u001b[0m\n\u001b[1;32m      8\u001b[0m \u001b[0;34m\u001b[0m\u001b[0m\n\u001b[1;32m      9\u001b[0m     \u001b[0mpdb\u001b[0m\u001b[0;34m.\u001b[0m\u001b[0mset_trace\u001b[0m\u001b[0;34m(\u001b[0m\u001b[0;34m)\u001b[0m\u001b[0;34m\u001b[0m\u001b[0m\n\u001b[0;32m---> 10\u001b[0;31m     \u001b[0mlabel\u001b[0m \u001b[0;34m=\u001b[0m \u001b[0mtorch\u001b[0m\u001b[0;34m.\u001b[0m\u001b[0margmax\u001b[0m\u001b[0;34m(\u001b[0m\u001b[0mlabel\u001b[0m\u001b[0;34m)\u001b[0m\u001b[0;34m\u001b[0m\u001b[0m\n\u001b[0m\u001b[1;32m     11\u001b[0m \u001b[0;34m\u001b[0m\u001b[0m\n\u001b[1;32m     12\u001b[0m     \u001b[0moptimizer\u001b[0m\u001b[0;34m.\u001b[0m\u001b[0mzero_grad\u001b[0m\u001b[0;34m(\u001b[0m\u001b[0;34m)\u001b[0m\u001b[0;34m\u001b[0m\u001b[0m\n",
      "\u001b[0;32m~/anaconda3/lib/python3.6/bdb.py\u001b[0m in \u001b[0;36mtrace_dispatch\u001b[0;34m(self, frame, event, arg)\u001b[0m\n\u001b[1;32m     49\u001b[0m             \u001b[0;32mreturn\u001b[0m \u001b[0;31m# None\u001b[0m\u001b[0;34m\u001b[0m\u001b[0m\n\u001b[1;32m     50\u001b[0m         \u001b[0;32mif\u001b[0m \u001b[0mevent\u001b[0m \u001b[0;34m==\u001b[0m \u001b[0;34m'line'\u001b[0m\u001b[0;34m:\u001b[0m\u001b[0;34m\u001b[0m\u001b[0m\n\u001b[0;32m---> 51\u001b[0;31m             \u001b[0;32mreturn\u001b[0m \u001b[0mself\u001b[0m\u001b[0;34m.\u001b[0m\u001b[0mdispatch_line\u001b[0m\u001b[0;34m(\u001b[0m\u001b[0mframe\u001b[0m\u001b[0;34m)\u001b[0m\u001b[0;34m\u001b[0m\u001b[0m\n\u001b[0m\u001b[1;32m     52\u001b[0m         \u001b[0;32mif\u001b[0m \u001b[0mevent\u001b[0m \u001b[0;34m==\u001b[0m \u001b[0;34m'call'\u001b[0m\u001b[0;34m:\u001b[0m\u001b[0;34m\u001b[0m\u001b[0m\n\u001b[1;32m     53\u001b[0m             \u001b[0;32mreturn\u001b[0m \u001b[0mself\u001b[0m\u001b[0;34m.\u001b[0m\u001b[0mdispatch_call\u001b[0m\u001b[0;34m(\u001b[0m\u001b[0mframe\u001b[0m\u001b[0;34m,\u001b[0m \u001b[0marg\u001b[0m\u001b[0;34m)\u001b[0m\u001b[0;34m\u001b[0m\u001b[0m\n",
      "\u001b[0;32m~/anaconda3/lib/python3.6/bdb.py\u001b[0m in \u001b[0;36mdispatch_line\u001b[0;34m(self, frame)\u001b[0m\n\u001b[1;32m     68\u001b[0m         \u001b[0;32mif\u001b[0m \u001b[0mself\u001b[0m\u001b[0;34m.\u001b[0m\u001b[0mstop_here\u001b[0m\u001b[0;34m(\u001b[0m\u001b[0mframe\u001b[0m\u001b[0;34m)\u001b[0m \u001b[0;32mor\u001b[0m \u001b[0mself\u001b[0m\u001b[0;34m.\u001b[0m\u001b[0mbreak_here\u001b[0m\u001b[0;34m(\u001b[0m\u001b[0mframe\u001b[0m\u001b[0;34m)\u001b[0m\u001b[0;34m:\u001b[0m\u001b[0;34m\u001b[0m\u001b[0m\n\u001b[1;32m     69\u001b[0m             \u001b[0mself\u001b[0m\u001b[0;34m.\u001b[0m\u001b[0muser_line\u001b[0m\u001b[0;34m(\u001b[0m\u001b[0mframe\u001b[0m\u001b[0;34m)\u001b[0m\u001b[0;34m\u001b[0m\u001b[0m\n\u001b[0;32m---> 70\u001b[0;31m             \u001b[0;32mif\u001b[0m \u001b[0mself\u001b[0m\u001b[0;34m.\u001b[0m\u001b[0mquitting\u001b[0m\u001b[0;34m:\u001b[0m \u001b[0;32mraise\u001b[0m \u001b[0mBdbQuit\u001b[0m\u001b[0;34m\u001b[0m\u001b[0m\n\u001b[0m\u001b[1;32m     71\u001b[0m         \u001b[0;32mreturn\u001b[0m \u001b[0mself\u001b[0m\u001b[0;34m.\u001b[0m\u001b[0mtrace_dispatch\u001b[0m\u001b[0;34m\u001b[0m\u001b[0m\n\u001b[1;32m     72\u001b[0m \u001b[0;34m\u001b[0m\u001b[0m\n",
      "\u001b[0;31mBdbQuit\u001b[0m: "
     ]
    }
   ],
   "source": [
    "criterion = nn.NLLLoss()\n",
    "optimizer = optim.SGD(model.parameters(), 0.001)\n",
    "\n",
    "for iter, (rgb, label) in enumerate(train_loader, 0):\n",
    "    \n",
    "    rgb = rgb.float().cuda()\n",
    "    label = label.long().cuda()\n",
    "    \n",
    "    pdb.set_trace()\n",
    "    label = torch.argmax(label)\n",
    "    \n",
    "    optimizer.zero_grad()\n",
    "    \n",
    "    outputs = model(rgb)\n",
    "    \n",
    "    loss = criterion(outputs, label)\n",
    "    \n",
    "    loss.backward()\n",
    "    \n",
    "    optimizer.step()   \n",
    "    \n",
    "    iterations += 1\n",
    "    logger.scalar_summary('training_loss', loss.data.cpu().numpy(), iterations)"
   ]
  },
  {
   "cell_type": "code",
   "execution_count": 2,
   "metadata": {},
   "outputs": [],
   "source": [
    "## Training Accuracy \n",
    "confusionMatrix1s = np.zeros((2,2))\n",
    "confusionMatrix2s = np.zeros((2,2))\n",
    "confusionMatrix3s = np.zeros((2,2))\n",
    "confusionMatrixNone = np.zeros((2,2))\n",
    "thresh = 0.5 \n",
    "for iter, (rgb, label) in enumerate(train_loader, 0):\n",
    "\n",
    "    rgb = rgb.float().cuda()\n",
    "\n",
    "    label = label.squeeze(-1)\n",
    "    outputs = model(rgb)\n",
    "    outputs = F.sigmoid(outputs)\n",
    "\n",
    "    label = label.int().numpy()\n",
    "    outputs = outputs.detach().cpu().numpy()\n",
    "    label = label[0]\n",
    "    outputs = outputs[0]\n",
    "    outputs = outputs > thresh\n",
    "    \n",
    "    confusionMatrix1s[int(outputs[0])][label[0]] += 1\n",
    "    confusionMatrix2s[int(outputs[1])][label[1]] += 1\n",
    "    confusionMatrix3s[int(outputs[2])][label[2]] += 1\n",
    "    confusionMatrixNone[int(outputs[3])][label[3]] += 1"
   ]
  },
  {
   "cell_type": "code",
   "execution_count": 3,
   "metadata": {},
   "outputs": [
    {
     "data": {
      "text/plain": [
       "array([[17945.,   178.],\n",
       "       [  100.,  3751.]])"
      ]
     },
     "execution_count": 3,
     "metadata": {},
     "output_type": "execute_result"
    }
   ],
   "source": [
    "confusionMatrixNone"
   ]
  },
  {
   "cell_type": "code",
   "execution_count": 4,
   "metadata": {},
   "outputs": [
    {
     "name": "stdout",
     "output_type": "stream",
     "text": [
      "F1 score for 0-1 sec: 0.8286627335299902\n",
      "F1 score for 1-2 sec: 0.7649453065377766\n",
      "F1 score for 2-3 sec: 0.9916045291355978\n",
      "F1 score for None: 0.96426735218509\n"
     ]
    }
   ],
   "source": [
    "###### F1 score for 0-1 sec ######\n",
    "tp = confusionMatrix1s[1][1]\n",
    "fp = confusionMatrix1s[1][0]\n",
    "fn = confusionMatrix1s[0][1]\n",
    "precision = tp/(tp+fp)\n",
    "recall = tp/(tp+fn)\n",
    "f1Score = 2*precision*recall/(precision + recall)\n",
    "print('F1 score for 0-1 sec: ' + str(f1Score))\n",
    "\n",
    "###### F1 score for 1-2 sec ######\n",
    "tp = confusionMatrix2s[1][1]\n",
    "fp = confusionMatrix2s[1][0]\n",
    "fn = confusionMatrix2s[0][1]\n",
    "precision = tp/(tp+fp)\n",
    "recall = tp/(tp+fn)\n",
    "f1Score = 2*precision*recall/(precision + recall)\n",
    "print('F1 score for 1-2 sec: ' + str(f1Score))\n",
    "\n",
    "###### F1 score for 2-3 sec ######\n",
    "tp = confusionMatrix3s[1][1]\n",
    "fp = confusionMatrix3s[1][0]\n",
    "fn = confusionMatrix3s[0][1]\n",
    "precision = tp/(tp+fp)\n",
    "recall = tp/(tp+fn)\n",
    "f1Score = 2*precision*recall/(precision + recall)\n",
    "print('F1 score for 2-3 sec: ' + str(f1Score))\n",
    "\n",
    "###### F1 score for None #########\n",
    "tp = confusionMatrixNone[1][1]\n",
    "fp = confusionMatrixNone[1][0]\n",
    "fn = confusionMatrixNone[0][1]\n",
    "precision = tp/(tp+fp)\n",
    "recall = tp/(tp+fn)\n",
    "f1Score = 2*precision*recall/(precision + recall)\n",
    "print('F1 score for None: ' + str(f1Score))"
   ]
  },
  {
   "cell_type": "code",
   "execution_count": 5,
   "metadata": {},
   "outputs": [],
   "source": [
    "## Test Accuracy \n",
    "confusionMatrix1s = np.zeros((2,2))\n",
    "confusionMatrix2s = np.zeros((2,2))\n",
    "confusionMatrix3s = np.zeros((2,2))\n",
    "confusionMatrixNone = np.zeros((2,2))\n",
    "thresh = 0.4 \n",
    "for iter, (rgb, label) in enumerate(test_loader, 0):\n",
    "\n",
    "    rgb = rgb.float().cuda()\n",
    "\n",
    "    label = label.squeeze(-1)\n",
    "    outputs = model(rgb)\n",
    "\n",
    "    outputs = F.sigmoid(outputs)\n",
    "\n",
    "    label = label.int().numpy()\n",
    "    \n",
    "    outputs = outputs.detach().cpu().numpy()\n",
    "    label = label[0]\n",
    "    outputs = outputs[0]\n",
    "    outputs = outputs > thresh\n",
    "    \n",
    "#     if (label[0] == 1):\n",
    "#         pdb.set_trace()\n",
    "    \n",
    "    confusionMatrix1s[int(outputs[0])][label[0]] += 1\n",
    "    confusionMatrix2s[int(outputs[1])][label[1]] += 1\n",
    "    confusionMatrix3s[int(outputs[2])][label[2]] += 1\n",
    "    confusionMatrixNone[int(outputs[3])][label[3]] += 1"
   ]
  },
  {
   "cell_type": "code",
   "execution_count": 6,
   "metadata": {},
   "outputs": [
    {
     "data": {
      "text/plain": [
       "array([[848.,  85.],\n",
       "       [ 35., 180.]])"
      ]
     },
     "execution_count": 6,
     "metadata": {},
     "output_type": "execute_result"
    }
   ],
   "source": [
    "confusionMatrix1s"
   ]
  },
  {
   "cell_type": "code",
   "execution_count": 7,
   "metadata": {},
   "outputs": [
    {
     "name": "stdout",
     "output_type": "stream",
     "text": [
      "F1 score for 0-1 sec: 0.7499999999999999\n",
      "F1 score for 1-2 sec: 0.5958333333333333\n",
      "F1 score for 2-3 sec: 0.9544159544159544\n",
      "F1 score for None: 0.6431718061674009\n"
     ]
    }
   ],
   "source": [
    "###### F1 score for 0-1 sec ######\n",
    "tp = confusionMatrix1s[1][1]\n",
    "fp = confusionMatrix1s[1][0]\n",
    "fn = confusionMatrix1s[0][1]\n",
    "precision = tp/(tp+fp)\n",
    "recall = tp/(tp+fn)\n",
    "f1Score = 2*precision*recall/(precision + recall)\n",
    "print('F1 score for 0-1 sec: ' + str(f1Score))\n",
    "\n",
    "###### F1 score for 1-2 sec ######\n",
    "tp = confusionMatrix2s[1][1]\n",
    "fp = confusionMatrix2s[1][0]\n",
    "fn = confusionMatrix2s[0][1]\n",
    "precision = tp/(tp+fp)\n",
    "recall = tp/(tp+fn)\n",
    "f1Score = 2*precision*recall/(precision + recall)\n",
    "print('F1 score for 1-2 sec: ' + str(f1Score))\n",
    "\n",
    "###### F1 score for 2-3 sec ######\n",
    "tp = confusionMatrix3s[1][1]\n",
    "fp = confusionMatrix3s[1][0]\n",
    "fn = confusionMatrix3s[0][1]\n",
    "precision = tp/(tp+fp)\n",
    "recall = tp/(tp+fn)\n",
    "f1Score = 2*precision*recall/(precision + recall)\n",
    "print('F1 score for 2-3 sec: ' + str(f1Score))\n",
    "\n",
    "###### F1 score for None #########\n",
    "tp = confusionMatrixNone[1][1]\n",
    "fp = confusionMatrixNone[1][0]\n",
    "fn = confusionMatrixNone[0][1]\n",
    "precision = tp/(tp+fp)\n",
    "recall = tp/(tp+fn)\n",
    "f1Score = 2*precision*recall/(precision + recall)\n",
    "print('F1 score for None: ' + str(f1Score))"
   ]
  },
  {
   "cell_type": "code",
   "execution_count": 8,
   "metadata": {},
   "outputs": [
    {
     "data": {
      "text/plain": [
       "array([[811., 126.],\n",
       "       [ 68., 143.]])"
      ]
     },
     "execution_count": 8,
     "metadata": {},
     "output_type": "execute_result"
    }
   ],
   "source": [
    "confusionMatrix2s"
   ]
  },
  {
   "cell_type": "code",
   "execution_count": 9,
   "metadata": {},
   "outputs": [
    {
     "data": {
      "text/plain": [
       "array([[848.,  85.],\n",
       "       [ 35., 180.]])"
      ]
     },
     "execution_count": 9,
     "metadata": {},
     "output_type": "execute_result"
    }
   ],
   "source": [
    "confusionMatrix1s"
   ]
  },
  {
   "cell_type": "code",
   "execution_count": 10,
   "metadata": {},
   "outputs": [
    {
     "data": {
      "text/plain": [
       "array([[  47.,   21.],\n",
       "       [  75., 1005.]])"
      ]
     },
     "execution_count": 10,
     "metadata": {},
     "output_type": "execute_result"
    }
   ],
   "source": [
    "confusionMatrix3s"
   ]
  },
  {
   "cell_type": "code",
   "execution_count": 11,
   "metadata": {},
   "outputs": [
    {
     "data": {
      "text/plain": [
       "array([[994.,  49.],\n",
       "       [ 32.,  73.]])"
      ]
     },
     "execution_count": 11,
     "metadata": {},
     "output_type": "execute_result"
    }
   ],
   "source": [
    "confusionMatrixNone\n"
   ]
  },
  {
   "cell_type": "code",
   "execution_count": 12,
   "metadata": {},
   "outputs": [],
   "source": [
    "hfp_test.close()"
   ]
  },
  {
   "cell_type": "code",
   "execution_count": 13,
   "metadata": {},
   "outputs": [],
   "source": [
    "hfp_train.close()"
   ]
  },
  {
   "cell_type": "code",
   "execution_count": null,
   "metadata": {},
   "outputs": [],
   "source": []
  }
 ],
 "metadata": {
  "kernelspec": {
   "display_name": "Python 3",
   "language": "python",
   "name": "python3"
  },
  "language_info": {
   "codemirror_mode": {
    "name": "ipython",
    "version": 3
   },
   "file_extension": ".py",
   "mimetype": "text/x-python",
   "name": "python",
   "nbconvert_exporter": "python",
   "pygments_lexer": "ipython3",
   "version": "3.6.5"
  }
 },
 "nbformat": 4,
 "nbformat_minor": 2
}
